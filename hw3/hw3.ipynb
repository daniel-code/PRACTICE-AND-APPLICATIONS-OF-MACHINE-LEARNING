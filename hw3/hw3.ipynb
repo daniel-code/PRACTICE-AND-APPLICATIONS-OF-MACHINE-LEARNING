{
 "cells": [
  {
   "cell_type": "markdown",
   "metadata": {
    "collapsed": true
   },
   "source": [
    "\n",
    "NSL_KDD 主程式\n",
    "python 3.5\n",
    "Author:daniel-code\n",
    "Date:2018.04.11\n"
   ]
  },
  {
   "cell_type": "code",
   "execution_count": 9,
   "metadata": {},
   "outputs": [],
   "source": [
    "import numpy as np\n",
    "import matplotlib.pyplot as plt\n",
    "import pandas as pd\n",
    "import operator\n",
    "from sklearn import svm\n",
    "from sklearn.model_selection import train_test_split\n",
    "from sklearn.metrics import classification_report\n",
    "import time\n"
   ]
  },
  {
   "cell_type": "code",
   "execution_count": 3,
   "metadata": {},
   "outputs": [
    {
     "name": "stdout",
     "output_type": "stream",
     "text": [
      "          0     4      5   6   7   8   9   10  11  12 ...   32    33    34  \\\n0          0   491      0   0   0   0   0   0   0   0 ...   25  0.17  0.03   \n1          0   146      0   0   0   0   0   0   0   0 ...    1  0.00  0.60   \n2          0     0      0   0   0   0   0   0   0   0 ...   26  0.10  0.05   \n3          0   232   8153   0   0   0   0   0   1   0 ...  255  1.00  0.00   \n4          0   199    420   0   0   0   0   0   1   0 ...  255  1.00  0.00   \n5          0     0      0   0   0   0   0   0   0   0 ...   19  0.07  0.07   \n6          0     0      0   0   0   0   0   0   0   0 ...    9  0.04  0.05   \n7          0     0      0   0   0   0   0   0   0   0 ...   15  0.06  0.07   \n8          0     0      0   0   0   0   0   0   0   0 ...   23  0.09  0.05   \n9          0     0      0   0   0   0   0   0   0   0 ...   13  0.05  0.06   \n10         0     0      0   0   0   0   0   0   0   0 ...   12  0.05  0.07   \n11         0     0      0   0   0   0   0   0   0   0 ...   13  0.05  0.07   \n12         0   287   2251   0   0   0   0   0   1   0 ...  219  1.00  0.00   \n13         0   334      0   0   0   0   0   0   1   0 ...   20  1.00  0.00   \n14         0     0      0   0   0   0   0   0   0   0 ...    1  0.00  0.07   \n15         0     0      0   0   0   0   0   0   0   0 ...    2  0.01  0.06   \n16         0   300  13788   0   0   0   0   0   1   0 ...  255  1.00  0.00   \n17         0    18      0   0   0   0   0   0   0   0 ...   16  1.00  0.00   \n18         0   233    616   0   0   0   0   0   1   0 ...  255  1.00  0.00   \n19         0   343   1178   0   0   0   0   0   1   0 ...  255  1.00  0.00   \n20         0     0      0   0   0   0   0   0   0   0 ...   23  0.09  0.05   \n21         0     0      0   0   0   0   0   0   0   0 ...   17  0.07  0.06   \n22         0   253  11905   0   0   0   0   0   1   0 ...  255  1.00  0.00   \n23      5607   147    105   0   0   0   0   0   0   0 ...    1  0.00  0.85   \n24         0     0      0   0   0   0   0   0   0   0 ...    2  0.01  0.06   \n25       507   437  14421   0   0   0   0   0   1   3 ...   25  0.10  0.05   \n26         0     0      0   0   0   0   0   0   0   0 ...   13  0.05  0.07   \n27         0   227   6588   0   0   0   0   0   1   0 ...  255  1.00  0.00   \n28         0   215  10499   0   0   0   0   0   1   0 ...  255  1.00  0.00   \n29         0   241   1400   0   0   0   0   0   1   0 ...  255  1.00  0.00   \n...      ...   ...    ...  ..  ..  ..  ..  ..  ..  .. ...  ...   ...   ...   \n125943     0   491      0   0   0   0   0   0   1   0 ...   65  0.33  0.33   \n125944     1  2049    362   0   0   0   0   0   1   0 ...   87  0.92  0.02   \n125945     0   247    799   0   0   0   0   0   1   0 ...  255  1.00  0.00   \n125946     0     0      0   0   0   0   0   0   0   0 ...   10  0.04  0.07   \n125947     0    18      0   0   0   0   0   0   0   0 ...  218  1.00  0.00   \n125948     0     0      0   0   0   0   0   0   0   0 ...   13  0.05  0.07   \n125949     0     0      0   0   0   0   0   0   0   0 ...  255  1.00  0.00   \n125950     0    28      0   0   3   0   0   0   0   0 ...    3  0.01  0.01   \n125951     0   254    555   0   0   0   0   0   1   0 ...  170  1.00  0.00   \n125952     0  1289    408   0   0   0   0   0   1   0 ...   58  0.23  0.06   \n125953     0     0      0   0   0   0   0   0   0   0 ...    9  0.04  0.04   \n125954     0   269  10939   0   0   0   0   0   1   0 ...  255  1.00  0.00   \n125955     0     0      0   0   0   0   0   0   0   0 ...  220  1.00  0.00   \n125956     0    30      0   0   0   0   0   0   0   0 ...    4  0.02  0.01   \n125957     1  1247    327   0   0   0   0   0   1   0 ...  129  0.53  0.03   \n125958     0     0      0   0   0   0   0   0   0   0 ...    4  0.02  0.05   \n125959     0   373   4777   0   0   0   0   0   1   0 ...  255  1.00  0.00   \n125960     0   329    885   0   0   0   0   0   1   0 ...  255  1.00  0.00   \n125961     0   236   2698   0   0   0   0   0   1   0 ...  247  0.97  0.01   \n125962     0    33      0   0   0   0   0   0   0   0 ...   17  0.13  0.03   \n125963     0   334   1600   0   0   0   0   0   1   0 ...  255  1.00  0.00   \n125964     0     0      0   0   0   0   0   0   0   0 ...   12  0.05  0.06   \n125965     0  2233    365   0   0   0   0   0   1   0 ...    2  1.00  0.00   \n125966     0     0      0   0   0   0   0   0   0   0 ...   13  0.05  0.07   \n125967     0   359    375   0   0   0   0   0   1   0 ...  255  1.00  0.00   \n125968     0     0      0   0   0   0   0   0   0   0 ...   25  0.10  0.06   \n125969     8   105    145   0   0   0   0   0   0   0 ...  244  0.96  0.01   \n125970     0  2231    384   0   0   0   0   0   1   0 ...   30  0.12  0.06   \n125971     0     0      0   0   0   0   0   0   0   0 ...    8  0.03  0.05   \n125972     0   151      0   0   0   0   0   0   1   0 ...   77  0.30  0.03   \n\n          35    36    37    38    39    40  42  \n0       0.17  0.00  0.00  0.00  0.05  0.00  20  \n1       0.88  0.00  0.00  0.00  0.00  0.00  15  \n2       0.00  0.00  1.00  1.00  0.00  0.00  19  \n3       0.03  0.04  0.03  0.01  0.00  0.01  21  \n4       0.00  0.00  0.00  0.00  0.00  0.00  21  \n5       0.00  0.00  0.00  0.00  1.00  1.00  21  \n6       0.00  0.00  1.00  1.00  0.00  0.00  21  \n7       0.00  0.00  1.00  1.00  0.00  0.00  21  \n8       0.00  0.00  1.00  1.00  0.00  0.00  21  \n9       0.00  0.00  1.00  1.00  0.00  0.00  21  \n10      0.00  0.00  0.00  0.00  1.00  1.00  21  \n11      0.00  0.00  1.00  1.00  0.00  0.00  21  \n12      0.12  0.03  0.00  0.00  0.00  0.00  21  \n13      1.00  0.20  0.00  0.00  0.00  0.00  15  \n14      0.00  0.00  1.00  1.00  0.00  0.00  19  \n15      0.00  0.00  1.00  1.00  0.00  0.00  18  \n16      0.01  0.02  0.00  0.00  0.00  0.00  21  \n17      1.00  1.00  0.00  0.00  0.00  0.00  18  \n18      0.02  0.03  0.00  0.00  0.02  0.00  21  \n19      0.01  0.04  0.00  0.00  0.00  0.00  21  \n20      0.00  0.00  1.00  1.00  0.00  0.00  18  \n21      0.00  0.00  0.99  1.00  0.00  0.00  18  \n22      0.01  0.02  0.00  0.00  0.00  0.00  21  \n23      1.00  0.00  0.00  0.00  0.00  0.00  21  \n24      0.00  0.00  1.00  1.00  0.00  0.00  19  \n25      0.00  0.00  0.53  0.00  0.02  0.16  20  \n26      0.00  0.00  1.00  1.00  0.00  0.00  21  \n27      0.02  0.14  0.00  0.00  0.56  0.57  21  \n28      0.00  0.00  0.00  0.00  0.00  0.00  21  \n29      0.00  0.00  0.00  0.00  0.00  0.00  21  \n...      ...   ...   ...   ...   ...   ...  ..  \n125943  0.33  0.03  0.00  0.00  0.00  0.00  21  \n125944  0.01  0.00  0.00  0.00  0.00  0.00  21  \n125945  0.01  0.02  0.00  0.00  0.00  0.00  21  \n125946  0.00  0.00  1.00  1.00  0.00  0.00  20  \n125947  1.00  0.25  0.00  0.00  0.00  0.00  15  \n125948  0.00  0.00  1.00  1.00  0.00  0.00  21  \n125949  0.00  0.00  0.00  0.00  0.00  0.00  21  \n125950  0.01  0.00  0.00  0.00  0.00  0.00  16  \n125951  0.03  0.04  0.00  0.00  0.00  0.00  21  \n125952  0.00  0.00  0.51  0.00  0.02  0.00  15  \n125953  0.00  0.00  1.00  1.00  0.00  0.00  18  \n125954  0.05  0.04  0.00  0.00  0.00  0.00  21  \n125955  1.00  0.06  0.00  0.00  1.00  1.00  21  \n125956  0.03  0.00  0.00  0.00  0.00  0.00  20  \n125957  0.00  0.02  0.01  0.02  0.00  0.00  21  \n125958  0.00  0.00  1.00  1.00  0.00  0.00  21  \n125959  0.02  0.04  0.00  0.00  0.00  0.00  21  \n125960  0.00  0.00  0.00  0.00  0.00  0.00  21  \n125961  0.00  0.00  0.00  0.00  0.00  0.00  21  \n125962  0.13  0.00  0.00  0.00  0.00  0.00  21  \n125963  0.00  0.00  0.00  0.00  0.00  0.00  21  \n125964  0.00  0.00  1.00  1.00  0.00  0.00  21  \n125965  1.00  1.00  0.00  0.00  0.00  0.00  19  \n125966  0.00  0.00  1.00  1.00  0.00  0.00  21  \n125967  0.33  0.04  0.33  0.00  0.00  0.00  18  \n125968  0.00  0.00  1.00  1.00  0.00  0.00  20  \n125969  0.01  0.00  0.00  0.00  0.00  0.00  21  \n125970  0.00  0.00  0.72  0.00  0.01  0.00  18  \n125971  0.00  0.00  1.00  1.00  0.00  0.00  20  \n125972  0.30  0.00  0.00  0.00  0.00  0.00  21  \n\n[125973 rows x 39 columns]\nNetwork attack type\n('normal', '\\t', '67343')\n('dos', '\\t', '45927')\n('probe', '\\t', '11656')\n('r2l', '\\t', '995')\n('u2r', '\\t', '52')\n('\\nTotal\\t', 125973)\n"
     ]
    },
    {
     "data": {
      "image/png": "[encoded data removed]",
      "text/plain": [
       "<matplotlib.figure.Figure at 0x7f170b51a150>"
      ]
     },
     "metadata": {},
     "output_type": "display_data"
    }
   ],
   "source": [
    "# read kdd date from csv\n",
    "\n",
    "\n",
    "data = pd.read_csv('NSL_KDD/KDDTrain+.csv', header=None)\n",
    "\n",
    "# build attack table\n",
    "attack_type = pd.read_csv('NSL_KDD/Attack Types.csv', names=['attack', 'type'])\n",
    "attack_type_dict = attack_type.set_index('attack')['type'].to_dict()\n",
    "\n",
    "# build training data and label\n",
    "y = data[41].apply(lambda x: attack_type_dict[x])\n",
    "x = data.drop(columns=[1, 2, 3, 41])\n",
    "print(x)\n",
    "# statistics attack type\n",
    "hist = {}\n",
    "for row in y.values:\n",
    "    if row in hist:\n",
    "        hist[row] += 1\n",
    "    else:\n",
    "        hist[row] = 1\n",
    "sorted_hist_list = np.array(sorted(hist.items(), key=operator.itemgetter(1), reverse=True))\n",
    "print('Network attack type')\n",
    "for item in sorted_hist_list:\n",
    "    print(item[0], '\\t', item[1])\n",
    "print('\\nTotal\\t', len(x))\n",
    "plt.figure(figsize=(20, 10))\n",
    "plt.title('Network attack type')\n",
    "plt.bar(sorted_hist_list[:, 0], sorted_hist_list[:, 1])\n",
    "plt.xlabel('Attack type')\n",
    "plt.ylabel('Number')\n",
    "plt.grid(True)\n",
    "plt.show()"
   ]
  },
  {
   "cell_type": "code",
   "execution_count": 4,
   "metadata": {},
   "outputs": [],
   "source": [
    "x = np.array(x)\n",
    "y = np.array(y)\n",
    "# splite dataset into train and test set\n",
    "x_train, x_test, y_train, y_test = train_test_split(x[:, 4:], y, test_size=0.2, random_state=0)"
   ]
  },
  {
   "cell_type": "code",
   "execution_count": 5,
   "metadata": {},
   "outputs": [
    {
     "name": "stdout",
     "output_type": "stream",
     "text": [
      "---START TRAINING---\n"
     ]
    },
    {
     "name": "stdout",
     "output_type": "stream",
     "text": [
      "---END TRAIN---\n('Time = ', 3447.6023440361023)\n"
     ]
    }
   ],
   "source": [
    "# build model\n",
    "model = svm.SVC()\n",
    "print('---START TRAINING---')\n",
    "start_time = time.time()\n",
    "model.fit(X=x_train, y=y_train)\n",
    "print('---END TRAIN---')\n",
    "print('Time = ', time.time() - start_time)"
   ]
  },
  {
   "cell_type": "code",
   "execution_count": 7,
   "metadata": {},
   "outputs": [
    {
     "name": "stdout",
     "output_type": "stream",
     "text": [
      "0.988370708474\n['normal' 'normal' 'normal' ..., 'probe' 'dos' 'normal']\n"
     ]
    }
   ],
   "source": [
    "# predict\n",
    "predict=model.predict(x_test)\n",
    "score = model.score(X=x_test, y=y_test)\n",
    "print(score)\n",
    "print(predict)"
   ]
  },
  {
   "cell_type": "code",
   "execution_count": 10,
   "metadata": {},
   "outputs": [
    {
     "name": "stdout",
     "output_type": "stream",
     "text": [
      "             precision    recall  f1-score   support\n\n        dos       0.99      0.99      0.99      9166\n     normal       0.99      0.99      0.99     13457\n      probe       0.97      0.96      0.97      2342\n        r2l       0.93      0.92      0.93       215\n        u2r       1.00      0.33      0.50        15\n\navg / total       0.99      0.99      0.99     25195\n\n"
     ]
    }
   ],
   "source": [
    "print(classification_report(y_test,predict))"
   ]
  },
  {
   "cell_type": "code",
   "execution_count": null,
   "metadata": {},
   "outputs": [],
   "source": []
  }
 ],
 "metadata": {
  "kernelspec": {
   "display_name": "Python 2",
   "language": "python",
   "name": "python2"
  },
  "language_info": {
   "codemirror_mode": {
    "name": "ipython",
    "version": 2
   },
   "file_extension": ".py",
   "mimetype": "text/x-python",
   "name": "python",
   "nbconvert_exporter": "python",
   "pygments_lexer": "ipython2",
   "version": "2.7.6"
  }
 },
 "nbformat": 4,
 "nbformat_minor": 0
}
