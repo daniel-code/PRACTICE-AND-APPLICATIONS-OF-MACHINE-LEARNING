{
 "cells": [
  {
   "cell_type": "markdown",
   "metadata": {
    "collapsed": true
   },
   "source": [
    "\n",
    "NSL_KDD 主程式\n",
    "python 3.5\n",
    "Author:daniel-code\n",
    "Date:2018.04.11\n"
   ]
  },
  {
   "cell_type": "code",
   "execution_count": 8,
   "metadata": {},
   "outputs": [],
   "source": [
    "import numpy as np\n",
    "import matplotlib.pyplot as plt\n",
    "import pandas as pd\n",
    "import operator\n",
    "from sklearn import svm\n",
    "from sklearn.model_selection import train_test_split\n",
    "from sklearn.metrics import classification_report\n",
    "from sklearn.metrics import confusion_matrix\n",
    "import time\n"
   ]
  },
  {
   "cell_type": "code",
   "execution_count": null,
   "metadata": {},
   "outputs": [],
   "source": [
    "# read kdd date from csv\n",
    "\n",
    "\n",
    "data = pd.read_csv('NSL_KDD/KDDTrain+.csv', header=None)\n",
    "\n",
    "# build attack table\n",
    "attack_type = pd.read_csv('NSL_KDD/Attack Types.csv', names=['attack', 'type'])\n",
    "attack_type_dict = attack_type.set_index('attack')['type'].to_dict()\n",
    "\n",
    "# build training data and label\n",
    "y = data[41].apply(lambda x: attack_type_dict[x])\n",
    "x = data.drop(columns=[1, 2, 3, 41])\n",
    "print(x)\n",
    "# statistics attack type\n",
    "hist = {}\n",
    "for row in y.values:\n",
    "    if row in hist:\n",
    "        hist[row] += 1\n",
    "    else:\n",
    "        hist[row] = 1\n",
    "sorted_hist_list = np.array(sorted(hist.items(), key=operator.itemgetter(1), reverse=True))\n",
    "print('Network attack type')\n",
    "for item in sorted_hist_list:\n",
    "    print(item[0], '\\t', item[1])\n",
    "print('\\nTotal\\t', len(x))\n",
    "plt.figure(figsize=(20, 10))\n",
    "plt.title('Network attack type')\n",
    "plt.bar(sorted_hist_list[:, 0], sorted_hist_list[:, 1])\n",
    "plt.xlabel('Attack type')\n",
    "plt.ylabel('Number')\n",
    "plt.grid(True)\n",
    "plt.show()\n",
    "x_train = np.array(x)\n",
    "y_train = np.array(y)\n",
    "# splite dataset into train and test set\n",
    "#x_train, x_test, y_train, y_test = train_test_split(x[:, 4:], y, test_size=0.2, random_state=0)"
   ]
  },
  {
   "cell_type": "code",
   "execution_count": null,
   "metadata": {},
   "outputs": [],
   "source": [
    "data = pd.read_csv('NSL_KDD/KDDTest+.csv', header=None)\n",
    "\n",
    "# build attack table\n",
    "#attack_type = pd.read_csv('NSL_KDD/Attack Types.csv', names=['attack', 'type'])\n",
    "#attack_type_dict = attack_type.set_index('attack')['type'].to_dict()\n",
    "\n",
    "# build training data and label\n",
    "y = data[41].apply(lambda x: attack_type_dict[x])\n",
    "x = data.drop(columns=[1, 2, 3, 41])\n",
    "x_test = np.array(x)\n",
    "y_test = np.array(y)"
   ]
  },
  {
   "cell_type": "code",
   "execution_count": 8,
   "metadata": {},
   "outputs": [
    {
     "name": "stdout",
     "output_type": "stream",
     "text": [
      "---START TRAINING---\n"
     ]
    },
    {
     "name": "stdout",
     "output_type": "stream",
     "text": [
      "---END TRAIN---\nTime =  3792.0631110668182\n"
     ]
    }
   ],
   "source": [
    "# build model\n",
    "model = svm.SVC()\n",
    "print('---START TRAINING---')\n",
    "start_time = time.time()\n",
    "model.fit(X=x_train, y=y_train)\n",
    "print('---END TRAIN---')\n",
    "print('Time = ', time.time() - start_time)"
   ]
  },
  {
   "cell_type": "code",
   "execution_count": 19,
   "metadata": {},
   "outputs": [
    {
     "name": "stdout",
     "output_type": "stream",
     "text": [
      "             precision    recall  f1-score   support\n\n        dos       0.99      0.99      0.99      9166\n     normal       0.99      0.99      0.99     13457\n      probe       0.97      0.96      0.97      2342\n        r2l       0.93      0.92      0.93       215\n        u2r       1.00      0.33      0.50        15\n\navg / total       0.99      0.99      0.99     25195\n\n"
     ]
    },
    {
     "data": {
      "image/png": "[encoded data removed]",
      "text/plain": [
       "<matplotlib.figure.Figure at 0x7fd66d12eef0>"
      ]
     },
     "metadata": {},
     "output_type": "display_data"
    }
   ],
   "source": [
    "import seaborn as sns\n",
    "\n",
    "# predict\n",
    "y_pred=model.predict(x_test)\n",
    "score = model.score(X=x_test, y=y_test)\n",
    "print(classification_report(y_test,y_pred))\n",
    "\n",
    "# Compute confusion matrix\n",
    "cnf_matrix = confusion_matrix(y_test, y_pred)\n",
    "plt.figure(figsize=(20,10))\n",
    "ax= plt.subplot()\n",
    "sns.heatmap(cnf_matrix, annot=True,annot_kws={\"size\": 12}, ax = ax,fmt=\"d\") #annot=True to annotate cells\n",
    "plt.show()"
   ]
  },
  {
   "cell_type": "code",
   "execution_count": null,
   "metadata": {},
   "outputs": [],
   "source": []
  }
 ],
 "metadata": {
  "kernelspec": {
   "display_name": "Python 2",
   "language": "python",
   "name": "python2"
  },
  "language_info": {
   "codemirror_mode": {
    "name": "ipython",
    "version": 2
   },
   "file_extension": ".py",
   "mimetype": "text/x-python",
   "name": "python",
   "nbconvert_exporter": "python",
   "pygments_lexer": "ipython2",
   "version": "2.7.6"
  }
 },
 "nbformat": 4,
 "nbformat_minor": 0
}
